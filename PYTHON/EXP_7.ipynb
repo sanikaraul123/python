{
  "nbformat": 4,
  "nbformat_minor": 0,
  "metadata": {
    "colab": {
      "provenance": []
    },
    "kernelspec": {
      "name": "python3",
      "display_name": "Python 3"
    },
    "language_info": {
      "name": "python"
    }
  },
  "cells": [
    {
      "cell_type": "code",
      "execution_count": null,
      "metadata": {
        "id": "drJ0misKyG9P"
      },
      "outputs": [],
      "source": [
        "import mysql.connector\n",
        "\n",
        "def connect_to_database():\n",
        "    try:\n",
        "        connection = mysql.connector.connect(\n",
        "            host=\"localhost\",\n",
        "            user=\"root\",\n",
        "            password=\"root\"\n",
        "        )\n",
        "        print(\"Connected to MySQL server!\")\n",
        "        return connection\n",
        "    except mysql.connector.Error as e:\n",
        "        print(\"Error connecting to MySQL server:\", e)\n",
        "        return None\n",
        "\n",
        "def create_database(connection, database_name):\n",
        "    cursor = connection.cursor()\n",
        "    cursor.execute(f\"CREATE DATABASE IF NOT EXISTS {database_name}\")\n",
        "    print(f\"Database '{database_name}' created successfully!\")\n",
        "\n",
        "def create_table(connection, database_name):\n",
        "    try:\n",
        "        cursor = connection.cursor()\n",
        "        cursor.execute(f\"USE {database_name}\")\n",
        "        cursor.execute(\"\"\"\n",
        "            CREATE TABLE IF NOT EXISTS users (\n",
        "                id INT AUTO_INCREMENT PRIMARY KEY,\n",
        "                name VARCHAR(255),\n",
        "                email VARCHAR(255)\n",
        "            )\n",
        "        \"\"\")\n",
        "        connection.commit()\n",
        "        print(\"Table 'users' created successfully!\")\n",
        "    except mysql.connector.Error as e:\n",
        "        print(\"Error creating table:\", e)\n",
        "\n",
        "def main():\n",
        "    connection = connect_to_database()\n",
        "    if connection:\n",
        "        database_name = \"your_database\"\n",
        "        create_database(connection, database_name)\n",
        "        create_table(connection, database_name)\n",
        "        connection.close()\n",
        "        print(\"\\nConnection closed.\")\n",
        "\n",
        "if __name__ == \"__main__\":\n",
        "    main()\n"
      ]
    }
  ]
}
